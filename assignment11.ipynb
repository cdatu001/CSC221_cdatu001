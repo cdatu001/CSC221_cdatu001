{
  "nbformat": 4,
  "nbformat_minor": 0,
  "metadata": {
    "colab": {
      "provenance": [],
      "authorship_tag": "ABX9TyMHAjGv/Kqg5ldFGbEkSA8K",
      "include_colab_link": true
    },
    "kernelspec": {
      "name": "python3",
      "display_name": "Python 3"
    },
    "language_info": {
      "name": "python"
    }
  },
  "cells": [
    {
      "cell_type": "markdown",
      "metadata": {
        "id": "view-in-github",
        "colab_type": "text"
      },
      "source": [
        "<a href=\"https://colab.research.google.com/github/cdatu001/CSC221_cdatu001/blob/main/assignment11.ipynb\" target=\"_parent\"><img src=\"https://colab.research.google.com/assets/colab-badge.svg\" alt=\"Open In Colab\"/></a>"
      ]
    },
    {
      "cell_type": "code",
      "execution_count": null,
      "metadata": {
        "colab": {
          "base_uri": "https://localhost:8080/"
        },
        "id": "N7_cox7LlDYQ",
        "outputId": "80b910b6-5be8-49c6-f1f9-b080d154477d"
      },
      "outputs": [
        {
          "output_type": "stream",
          "name": "stdout",
          "text": [
            "Pizzaria\n",
            "pizza\n",
            "\n",
            "Pizzaria serves tasty pizza.\n",
            "\n",
            "Pizzaria is open. Try it yourself!\n"
          ]
        }
      ],
      "source": [
        "#9-1\n",
        "class Restaurant:\n",
        "    def __init__(self, name, cuisine_type):\n",
        "        self.name = name.title()\n",
        "        self.cuisine_type = cuisine_type\n",
        "    def describe_restaurant(self):\n",
        "        msg = f\"{self.name} serves tasty {self.cuisine_type}.\"\n",
        "        print(f\"\\n{msg}\")\n",
        "    def open_restaurant(self):\n",
        "        msg = f\"{self.name} is open. Try it yourself!\"\n",
        "        print(f\"\\n{msg}\")\n",
        "\n",
        "restaurant = Restaurant('Pizzaria', 'pizza')\n",
        "print(restaurant.name)\n",
        "print(restaurant.cuisine_type)\n",
        "\n",
        "restaurant.describe_restaurant()\n",
        "restaurant.open_restaurant()"
      ]
    },
    {
      "cell_type": "code",
      "source": [
        "#9-2\n",
        "class Restaurant:\n",
        "    def __init__(self, name, cuisine_type):\n",
        "        self.name = name.title()\n",
        "        self.cuisine_type = cuisine_type\n",
        "    def describe_restaurant(self):\n",
        "        msg = f\"{self.name} serves tasty {self.cuisine_type}.\"\n",
        "        print(f\"\\n{msg}\")\n",
        "    def open_restaurant(self):\n",
        "        msg = f\"{self.name} is open. Try it yourself!\"\n",
        "        print(f\"\\n{msg}\")\n",
        "\n",
        "Pizzaria = Restaurant('the Pizzaria', 'pizza')\n",
        "Pizzaria.describe_restaurant()\n",
        "\n",
        "Kabayan = Restaurant(\"Kabayan\", 'filipino food')\n",
        "Kabayan.describe_restaurant()\n",
        "\n",
        "Carvel = Restaurant('The Carvel', 'Ice Cream')\n",
        "Carvel.describe_restaurant()"
      ],
      "metadata": {
        "colab": {
          "base_uri": "https://localhost:8080/"
        },
        "id": "ElzUTYU4lNQX",
        "outputId": "e424eeae-6553-4af9-c545-20f0e4f77fa2"
      },
      "execution_count": null,
      "outputs": [
        {
          "output_type": "stream",
          "name": "stdout",
          "text": [
            "\n",
            "The Pizzaria serves tasty pizza.\n",
            "\n",
            "Kabayan serves tasty filipino food.\n",
            "\n",
            "The Carvel serves tasty Ice Cream.\n"
          ]
        }
      ]
    },
    {
      "cell_type": "code",
      "source": [
        "#9-3\n",
        "class User:\n",
        "    def __init__(self, first_name, last_name, username):\n",
        "        self.first_name = first_name.title()\n",
        "        self.last_name = last_name.title()\n",
        "        self.username = username\n",
        "    def describe_user(self):\n",
        "        print(f\"\\n{self.first_name} {self.last_name}\")\n",
        "        print(f\"  Username: {self.username}\")\n",
        "    def greet_user(self):\n",
        "        print(f\"\\nWelcome back, {self.username}!\")\n",
        "\n",
        "eric = User('Gagan', 'Singh', 'GaganS123')\n",
        "eric.describe_user()\n",
        "eric.greet_user()\n",
        "\n",
        "willie = User('Paul', 'John', 'PJ_123')\n",
        "willie.describe_user()\n",
        "willie.greet_user()"
      ],
      "metadata": {
        "colab": {
          "base_uri": "https://localhost:8080/"
        },
        "id": "ERPbaQ4WlzC7",
        "outputId": "714f7869-e23e-4081-fa01-57b7da11bea9"
      },
      "execution_count": null,
      "outputs": [
        {
          "output_type": "stream",
          "name": "stdout",
          "text": [
            "\n",
            "Gagan Singh\n",
            "  Username: GaganS123\n",
            "\n",
            "Welcome back, GaganS123!\n",
            "\n",
            "Paul John\n",
            "  Username: PJ_123\n",
            "\n",
            "Welcome back, PJ_123!\n"
          ]
        }
      ]
    },
    {
      "cell_type": "code",
      "source": [
        "#9-6\n",
        "class Restaurant:\n",
        "    def __init__(self, name, cuisine_type):\n",
        "        self.name = name.title()\n",
        "        self.cuisine_type = cuisine_type\n",
        "        self.number_served = 0\n",
        "\n",
        "    def describe_restaurant(self):\n",
        "        msg = f\"{self.name} serves tasty {self.cuisine_type}.\"\n",
        "        print(f\"\\n{msg}\")\n",
        "\n",
        "    def open_restaurant(self):\n",
        "        msg = f\"{self.name} is open. Try it yourself!\"\n",
        "        print(f\"\\n{msg}\")\n",
        "\n",
        "    def set_number_served(self, number_served):\n",
        "        self.number_served = number_served\n",
        "\n",
        "    def increment_number_served(self, additional_served):\n",
        "        self.number_served += additional_served\n",
        "\n",
        "\n",
        "class IceCreamStand(Restaurant):\n",
        "    def __init__(self, name, cuisine_type='ice cream'):\n",
        "        super().__init__(name, cuisine_type)\n",
        "        self.flavors = []\n",
        "    def show_flavors(self):\n",
        "        print(\"\\nWe have the following flavors available:\")\n",
        "        for flavor in self.flavors:\n",
        "            print(f\"- {flavor.title()}\")\n",
        "\n",
        "carvel = IceCreamStand('The Carvel')\n",
        "carvel.flavors = ['vanilla', 'chocolate', 'Strawberry']\n",
        "\n",
        "carvel.describe_restaurant()\n",
        "carvel.show_flavors()"
      ],
      "metadata": {
        "colab": {
          "base_uri": "https://localhost:8080/"
        },
        "id": "MtiJOdKLno-C",
        "outputId": "85bc1948-495a-4303-d66c-1cf095bd1120"
      },
      "execution_count": null,
      "outputs": [
        {
          "output_type": "stream",
          "name": "stdout",
          "text": [
            "\n",
            "The Carvel serves tasty ice cream.\n",
            "\n",
            "We have the following flavors available:\n",
            "- Vanilla\n",
            "- Chocolate\n",
            "- Strawberry\n"
          ]
        }
      ]
    },
    {
      "cell_type": "code",
      "source": [
        "#9-7\n",
        "class User:\n",
        "    def __init__(self, first_name, last_name, username):\n",
        "        self.first_name = first_name.title()\n",
        "        self.last_name = last_name.title()\n",
        "        self.username = username\n",
        "        self.login_attempts = 0\n",
        "\n",
        "    def describe_user(self):\n",
        "        print(f\"\\n{self.first_name} {self.last_name}\")\n",
        "        print(f\"  Username: {self.username}\")\n",
        "\n",
        "    def greet_user(self):\n",
        "        print(f\"\\nWelcome back, {self.username}!\")\n",
        "\n",
        "    def increment_login_attempts(self):\n",
        "        self.login_attempts += 1\n",
        "\n",
        "    def reset_login_attempts(self):\n",
        "        self.login_attempts = 0\n",
        "\n",
        "\n",
        "class Admin(User):\n",
        "    def __init__(self, first_name, last_name, username):\n",
        "        super().__init__(first_name, last_name, username)\n",
        "        self.privileges = []\n",
        "\n",
        "    def show_privileges(self):\n",
        "        print(\"\\nPrivileges:\")\n",
        "        for privilege in self.privileges:\n",
        "            print(f\"- {privilege}\")\n",
        "\n",
        "\n",
        "andrei = Admin('Andrei', 'Datu', 'andreidatu123_')\n",
        "andrei.describe_user()\n",
        "\n",
        "andrei.privileges = [\n",
        "    'can reset passwords',\n",
        "    'can call anytime',\n",
        "    'can delete accounts',\n",
        "    ]\n",
        "\n",
        "andrei.show_privileges()"
      ],
      "metadata": {
        "colab": {
          "base_uri": "https://localhost:8080/"
        },
        "id": "vKNMF59woSwk",
        "outputId": "58196dfb-52d2-46fe-df1a-ec74323cb98b"
      },
      "execution_count": null,
      "outputs": [
        {
          "output_type": "stream",
          "name": "stdout",
          "text": [
            "\n",
            "Andrei Datu\n",
            "  Username: andreidatu123_\n",
            "\n",
            "Privileges:\n",
            "- can reset passwords\n",
            "- can call anytime\n",
            "- can delete accounts\n"
          ]
        }
      ]
    },
    {
      "cell_type": "code",
      "source": [],
      "metadata": {
        "id": "CwQ5fj4uqSwB"
      },
      "execution_count": null,
      "outputs": []
    }
  ]
}