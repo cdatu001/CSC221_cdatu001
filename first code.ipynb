{
  "nbformat": 4,
  "nbformat_minor": 0,
  "metadata": {
    "colab": {
      "provenance": [],
      "authorship_tag": "ABX9TyPwNaaGSb8o7e6BLcAV06AA",
      "include_colab_link": true
    },
    "kernelspec": {
      "name": "python3",
      "display_name": "Python 3"
    },
    "language_info": {
      "name": "python"
    }
  },
  "cells": [
    {
      "cell_type": "markdown",
      "metadata": {
        "id": "view-in-github",
        "colab_type": "text"
      },
      "source": [
        "<a href=\"https://colab.research.google.com/github/cdatu001/CSC221_cdatu001/blob/main/first%20code.ipynb\" target=\"_parent\"><img src=\"https://colab.research.google.com/assets/colab-badge.svg\" alt=\"Open In Colab\"/></a>"
      ]
    },
    {
      "cell_type": "code",
      "execution_count": 6,
      "metadata": {
        "colab": {
          "base_uri": "https://localhost:8080/"
        },
        "id": "yV7mHKomMqQ8",
        "outputId": "d7960f3a-1515-4192-aa7c-646abf10190d"
      },
      "outputs": [
        {
          "output_type": "stream",
          "name": "stdout",
          "text": [
            "13 12.21 25.21\n"
          ]
        }
      ],
      "source": [
        "a = 13\n",
        "b = 12.21\n",
        "total = a + b\n",
        "print(a, b, total)"
      ]
    }
  ]
}