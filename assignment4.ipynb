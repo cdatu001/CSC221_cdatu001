{
  "nbformat": 4,
  "nbformat_minor": 0,
  "metadata": {
    "colab": {
      "provenance": [],
      "authorship_tag": "ABX9TyNCucxg53otQLqF4CGPWEJR",
      "include_colab_link": true
    },
    "kernelspec": {
      "name": "python3",
      "display_name": "Python 3"
    },
    "language_info": {
      "name": "python"
    }
  },
  "cells": [
    {
      "cell_type": "markdown",
      "metadata": {
        "id": "view-in-github",
        "colab_type": "text"
      },
      "source": [
        "<a href=\"https://colab.research.google.com/github/cdatu001/CSC221_cdatu001/blob/main/assignment4.ipynb\" target=\"_parent\"><img src=\"https://colab.research.google.com/assets/colab-badge.svg\" alt=\"Open In Colab\"/></a>"
      ]
    },
    {
      "cell_type": "code",
      "execution_count": 8,
      "metadata": {
        "colab": {
          "base_uri": "https://localhost:8080/"
        },
        "id": "AWpaXUXWarAZ",
        "outputId": "c0489e48-900d-4150-b365-05701df4c4e6"
      },
      "outputs": [
        {
          "output_type": "stream",
          "name": "stdout",
          "text": [
            "Dhren\n",
            "Zed\n",
            "Trench\n",
            "Charles\n",
            "Xon\n"
          ]
        }
      ],
      "source": [
        "# 3-1 Names\n",
        "Friends=['Dhren','Zed','Trench','Charles','Xon']\n",
        "print(Friends[0].title())\n",
        "print(Friends[1].title())\n",
        "print(Friends[2].title())\n",
        "print(Friends[3].title())\n",
        "print(Friends[4].title())\n"
      ]
    },
    {
      "cell_type": "code",
      "source": [
        "# 3-2 Greetings\n",
        "Friends=['Dhren','Zed','Trench','Charles','Xon']\n",
        "Message=\"Hello my friends, welcome to my house. \"\n",
        "print(f'{Message}{Friends[0].title()}')\n",
        "print(f'{Message}{Friends[1].title()}')\n",
        "print(f'{Message}{Friends[2].title()}')\n",
        "print(f'{Message}{Friends[3].title()}')\n",
        "print(f'{Message}{Friends[4].title()}')"
      ],
      "metadata": {
        "id": "wd1LuPaubRMi",
        "colab": {
          "base_uri": "https://localhost:8080/"
        },
        "outputId": "1603937d-cddd-40ae-b29a-d070b1086380"
      },
      "execution_count": 1,
      "outputs": [
        {
          "output_type": "stream",
          "name": "stdout",
          "text": [
            "Hello my friends, welcome to my house. Dhren\n",
            "Hello my friends, welcome to my house. Zed\n",
            "Hello my friends, welcome to my house. Trench\n",
            "Hello my friends, welcome to my house. Charles\n",
            "Hello my friends, welcome to my house. Xon\n"
          ]
        }
      ]
    },
    {
      "cell_type": "code",
      "source": [
        "# 3-3 Your own transportation\n",
        "Cars=['Bmw','Nissan','Honda','Bentley']\n",
        "Message=\"I would like to own a \"\n",
        "print(f'{Message}{Cars[0].title()}')\n",
        "print(f'{Message}{Cars[1].title()}')\n",
        "print(f'{Message}{Cars[2].title()}')\n",
        "print(f'{Message}{Cars[3].title()}')"
      ],
      "metadata": {
        "colab": {
          "base_uri": "https://localhost:8080/"
        },
        "id": "R738q_KAb19Z",
        "outputId": "18d906c3-53f0-4edb-9849-28a17844f585"
      },
      "execution_count": 2,
      "outputs": [
        {
          "output_type": "stream",
          "name": "stdout",
          "text": [
            "I would like to own a Bmw\n",
            "I would like to own a Nissan\n",
            "I would like to own a Honda\n",
            "I would like to own a Bentley\n"
          ]
        }
      ]
    },
    {
      "cell_type": "code",
      "source": [
        "# 3-4 Guest List\n",
        "People=['Dhren','Trench','Zed','Charles']\n",
        "Message=\"I would like to invite \"\n",
        "print(f'{Message}{People[0].title()} to a dinner at my house')\n",
        "print(f'{Message}{People[1].title()} to a dinner at my house')\n",
        "print(f'{Message}{People[2].title()} to a dinner at my house')\n",
        "print(f'{Message}{People[3].title()} to a dinner at my house')\n",
        "len(People)"
      ],
      "metadata": {
        "colab": {
          "base_uri": "https://localhost:8080/"
        },
        "id": "N8-agiRmb6sc",
        "outputId": "ca57d2b6-2cd8-465f-8d8b-364f3744b1a8"
      },
      "execution_count": 3,
      "outputs": [
        {
          "output_type": "stream",
          "name": "stdout",
          "text": [
            "I would like to invite Dhren to a dinner at my house\n",
            "I would like to invite Trench to a dinner at my house\n",
            "I would like to invite Zed to a dinner at my house\n",
            "I would like to invite Charles to a dinner at my house\n"
          ]
        },
        {
          "output_type": "execute_result",
          "data": {
            "text/plain": [
              "4"
            ]
          },
          "metadata": {},
          "execution_count": 3
        }
      ]
    },
    {
      "cell_type": "code",
      "source": [
        "# 3-5 Changing Guest List\n",
        "People=['Dhren','Trench','Zed','Charles']\n",
        "Message=\"I would like to invite \"\n",
        "print(f'{Message}{People[0].title()} to a dinner at my house')\n",
        "print(f'{Message}{People[1].title()} to a dinner at my house')\n",
        "print(f'{Message}{People[2].title()} to a dinner at my house')\n",
        "print(f'{Message}{People[3].title()} to a dinner at my house')\n",
        "\n",
        "print(f'{People[1].title()} could not make it to the dinner')\n",
        "del People[1]\n",
        "People.append('Xon')\n",
        "\n",
        "print(f'{Message}{People[0].title()} to a dinner at my house')\n",
        "print(f'{Message}{People[1].title()} to a dinner at my house')\n",
        "print(f'{Message}{People[2].title()} to a dinner at my house')\n",
        "print(f'{Message}{People[3].title()} to a dinner at my house')\n",
        "len(People)"
      ],
      "metadata": {
        "colab": {
          "base_uri": "https://localhost:8080/"
        },
        "id": "4ItMRYLPcBNb",
        "outputId": "659ff95c-fe7b-4273-e71e-3d1d9da5a668"
      },
      "execution_count": 4,
      "outputs": [
        {
          "output_type": "stream",
          "name": "stdout",
          "text": [
            "I would like to invite Dhren to a dinner at my house\n",
            "I would like to invite Trench to a dinner at my house\n",
            "I would like to invite Zed to a dinner at my house\n",
            "I would like to invite Charles to a dinner at my house\n",
            "Trench could not make it to the dinner\n",
            "I would like to invite Dhren to a dinner at my house\n",
            "I would like to invite Zed to a dinner at my house\n",
            "I would like to invite Charles to a dinner at my house\n",
            "I would like to invite Xon to a dinner at my house\n"
          ]
        },
        {
          "output_type": "execute_result",
          "data": {
            "text/plain": [
              "4"
            ]
          },
          "metadata": {},
          "execution_count": 4
        }
      ]
    },
    {
      "cell_type": "code",
      "source": [
        "# 3-6 More Guest\n",
        "People=['Dhren','Trench','Zed','Charles']\n",
        "Message=\"I would like to invite \"\n",
        "print(f'{Message}{People[0].title()} to a dinner at my house')\n",
        "print(f'{Message}{People[1].title()} to a dinner at my house')\n",
        "print(f'{Message}{People[2].title()} to a dinner at my house')\n",
        "print(f'{Message}{People[3].title()} to a dinner at my house')\n",
        "\n",
        "print(f'{People[1].title()} could not make it to the dinner')\n",
        "del People[1]\n",
        "People.append('Xon')\n",
        "\n",
        "print(f'{Message}{People[0].title()} to a dinner at my house')\n",
        "print(f'{Message}{People[1].title()} to a dinner at my house')\n",
        "print(f'{Message}{People[2].title()} to a dinner at my house')\n",
        "print(f'{Message}{People[3].title()} to a dinner at my house')\n",
        "print(f'I just got a Notice that 3 more people are coming to the dinner')\n",
        "People.insert(0,'Milky')\n",
        "People.insert(2,'Tonio')\n",
        "People.insert(5,'Ethan')\n",
        "print(f'{Message}{People[0].title()} to a dinner at my house')\n",
        "print(f'{Message}{People[1].title()} to a dinner at my house')\n",
        "print(f'{Message}{People[3].title()} to a dinner at my house')\n",
        "print(f'{Message}{People[2].title()} to a dinner at my house')\n",
        "print(f'{Message}{People[4].title()} to a dinner at my house')\n",
        "print(f'{Message}{People[5].title()} to a dinner at my house')\n",
        "len(People)"
      ],
      "metadata": {
        "colab": {
          "base_uri": "https://localhost:8080/"
        },
        "id": "cwWsMZRkcKkM",
        "outputId": "0580a4ec-fe54-43a9-8505-eb5f195b9e39"
      },
      "execution_count": 5,
      "outputs": [
        {
          "output_type": "stream",
          "name": "stdout",
          "text": [
            "I would like to invite Dhren to a dinner at my house\n",
            "I would like to invite Trench to a dinner at my house\n",
            "I would like to invite Zed to a dinner at my house\n",
            "I would like to invite Charles to a dinner at my house\n",
            "Trench could not make it to the dinner\n",
            "I would like to invite Dhren to a dinner at my house\n",
            "I would like to invite Zed to a dinner at my house\n",
            "I would like to invite Charles to a dinner at my house\n",
            "I would like to invite Xon to a dinner at my house\n",
            "I just got a Notice that 3 more people are coming to the dinner\n",
            "I would like to invite Milky to a dinner at my house\n",
            "I would like to invite Dhren to a dinner at my house\n",
            "I would like to invite Zed to a dinner at my house\n",
            "I would like to invite Tonio to a dinner at my house\n",
            "I would like to invite Charles to a dinner at my house\n",
            "I would like to invite Ethan to a dinner at my house\n"
          ]
        },
        {
          "output_type": "execute_result",
          "data": {
            "text/plain": [
              "7"
            ]
          },
          "metadata": {},
          "execution_count": 5
        }
      ]
    },
    {
      "cell_type": "code",
      "source": [
        "# 3-7 Shrinking Guest List\n",
        "People=['Dhren','Trench','Zed','Charles']\n",
        "Message=\"I would like to invite \"\n",
        "print(f'{Message}{People[0].title()} to a dinner at my house')\n",
        "print(f'{Message}{People[1].title()} to a dinner at my house')\n",
        "print(f'{Message}{People[2].title()} to a dinner at my house')\n",
        "print(f'{Message}{People[3].title()} to a dinner at my house')\n",
        "\n",
        "print(f'{People[1].title()} could not make it to the dinner')\n",
        "del People[1]\n",
        "People.append('Xon')\n",
        "\n",
        "print(f'{Message}{People[0].title()} to a dinner at my house')\n",
        "print(f'{Message}{People[1].title()} to a dinner at my house')\n",
        "print(f'{Message}{People[2].title()} to a dinner at my house')\n",
        "print(f'{Message}{People[3].title()} to a dinner at my house')\n",
        "print(f'I just got a Notice that 3 more people are coming to the dinner')\n",
        "People.insert(0,'Milky')\n",
        "People.insert(2,'Tonio')\n",
        "People.insert(5,'Ethan')\n",
        "print(f'{Message}{People[0].title()} to a dinner at my house')\n",
        "print(f'{Message}{People[1].title()} to a dinner at my house')\n",
        "print(f'{Message}{People[3].title()} to a dinner at my house')\n",
        "print(f'{Message}{People[2].title()} to a dinner at my house')\n",
        "print(f'{Message}{People[4].title()} to a dinner at my house')\n",
        "print(f'{Message}{People[5].title()} to a dinner at my house')\n",
        "\n",
        "\n",
        "Popped_people=People.pop()\n",
        "print(f'{Popped_people} sorry but you are not invited anymore')\n",
        "Popped_people=People.pop()\n",
        "print(f'{Popped_people} sorry but you are not invited anymore')\n",
        "Popped_people=People.pop()\n",
        "print(f'{Popped_people} sorry but you are not invited anymore')\n",
        "Popped_people=People.pop()\n",
        "print(f'{Popped_people} sorry but you are not invited anymore')\n",
        "Popped_people=People.pop()\n",
        "print(f'{Popped_people} sorry but you are not invited anymore')\n",
        "Message=\"You are still invited \"\n",
        "print(f'{People[0]} {Message}')\n",
        "print(f'{People[1]} {Message}')\n",
        "del People[0]\n",
        "del People[0]\n",
        "print(People)\n",
        "len(People)\n"
      ],
      "metadata": {
        "colab": {
          "base_uri": "https://localhost:8080/"
        },
        "id": "WcZrIf4VcQ9J",
        "outputId": "a8db4f44-96e3-4579-db46-ee61bccbc877"
      },
      "execution_count": 6,
      "outputs": [
        {
          "output_type": "stream",
          "name": "stdout",
          "text": [
            "I would like to invite Dhren to a dinner at my house\n",
            "I would like to invite Trench to a dinner at my house\n",
            "I would like to invite Zed to a dinner at my house\n",
            "I would like to invite Charles to a dinner at my house\n",
            "Trench could not make it to the dinner\n",
            "I would like to invite Dhren to a dinner at my house\n",
            "I would like to invite Zed to a dinner at my house\n",
            "I would like to invite Charles to a dinner at my house\n",
            "I would like to invite Xon to a dinner at my house\n",
            "I just got a Notice that 3 more people are coming to the dinner\n",
            "I would like to invite Milky to a dinner at my house\n",
            "I would like to invite Dhren to a dinner at my house\n",
            "I would like to invite Zed to a dinner at my house\n",
            "I would like to invite Tonio to a dinner at my house\n",
            "I would like to invite Charles to a dinner at my house\n",
            "I would like to invite Ethan to a dinner at my house\n",
            "Xon sorry but you are not invited anymore\n",
            "Ethan sorry but you are not invited anymore\n",
            "Charles sorry but you are not invited anymore\n",
            "Zed sorry but you are not invited anymore\n",
            "Tonio sorry but you are not invited anymore\n",
            "Milky You are still invited \n",
            "Dhren You are still invited \n",
            "[]\n"
          ]
        },
        {
          "output_type": "execute_result",
          "data": {
            "text/plain": [
              "0"
            ]
          },
          "metadata": {},
          "execution_count": 6
        }
      ]
    },
    {
      "cell_type": "code",
      "source": [
        "# 3-8 Seeing the World\n",
        "Places=['Hawaii','Japan','Korea','Greece']\n",
        "print(Places)\n",
        "print(sorted(Places))\n",
        "print(Places)\n",
        "print(sorted(Places,reverse=True))\n",
        "print(Places)\n",
        "Places.reverse()\n",
        "print(Places)\n",
        "Places.reverse()\n",
        "print(Places)\n",
        "Places.sort()\n",
        "print(Places)\n",
        "Places.sort()\n",
        "print(Places)\n"
      ],
      "metadata": {
        "colab": {
          "base_uri": "https://localhost:8080/"
        },
        "id": "sexBM24rcV2q",
        "outputId": "19371a54-0670-4efb-ff0b-cf08a06054ca"
      },
      "execution_count": 7,
      "outputs": [
        {
          "output_type": "stream",
          "name": "stdout",
          "text": [
            "['Hawaii', 'Japan', 'Korea', 'Greece']\n",
            "['Greece', 'Hawaii', 'Japan', 'Korea']\n",
            "['Hawaii', 'Japan', 'Korea', 'Greece']\n",
            "['Korea', 'Japan', 'Hawaii', 'Greece']\n",
            "['Hawaii', 'Japan', 'Korea', 'Greece']\n",
            "['Greece', 'Korea', 'Japan', 'Hawaii']\n",
            "['Hawaii', 'Japan', 'Korea', 'Greece']\n",
            "['Greece', 'Hawaii', 'Japan', 'Korea']\n",
            "['Greece', 'Hawaii', 'Japan', 'Korea']\n"
          ]
        }
      ]
    },
    {
      "cell_type": "code",
      "source": [
        "# 3-10 Every Function\n",
        "List=['Languange','Motorocycle','Mountain','River','Home']\n",
        "print(List)\n",
        "print(List[3])\n",
        "print(List[-1])\n",
        "List[2]='Music'\n",
        "print(List)\n",
        "List.append('Mountain')\n",
        "print(List)\n",
        "List.insert(0,'Laptop')\n",
        "print(List)\n",
        "del List[0]\n",
        "print(List)\n",
        "List.pop()\n",
        "print(List)\n",
        "List.remove('River')\n",
        "print(List)\n",
        "List.sort()\n",
        "print(List)\n",
        "List.reverse()\n",
        "print(List)\n",
        "len(List)"
      ],
      "metadata": {
        "id": "PGJgs3XPcaKW"
      },
      "execution_count": null,
      "outputs": []
    }
  ]
}