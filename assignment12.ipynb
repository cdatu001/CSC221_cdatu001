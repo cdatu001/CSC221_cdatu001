{
  "nbformat": 4,
  "nbformat_minor": 0,
  "metadata": {
    "colab": {
      "provenance": [],
      "authorship_tag": "ABX9TyPzZtzIcUfbeF5dgklBVOk9",
      "include_colab_link": true
    },
    "kernelspec": {
      "name": "python3",
      "display_name": "Python 3"
    },
    "language_info": {
      "name": "python"
    }
  },
  "cells": [
    {
      "cell_type": "markdown",
      "metadata": {
        "id": "view-in-github",
        "colab_type": "text"
      },
      "source": [
        "<a href=\"https://colab.research.google.com/github/cdatu001/CSC221_cdatu001/blob/main/assignment12.ipynb\" target=\"_parent\"><img src=\"https://colab.research.google.com/assets/colab-badge.svg\" alt=\"Open In Colab\"/></a>"
      ]
    },
    {
      "cell_type": "code",
      "execution_count": 1,
      "metadata": {
        "id": "VXWfBZorHQY1",
        "outputId": "750bd346-cde0-4041-a5df-4828a2941a55",
        "colab": {
          "base_uri": "https://localhost:8080/"
        }
      },
      "outputs": [
        {
          "output_type": "stream",
          "name": "stdout",
          "text": [
            "$1.00\n",
            "$5.00\n",
            "$10.00\n",
            "$20.00\n",
            "$0.01\n",
            "$0.05\n",
            "$0.10\n",
            "$0.25\n"
          ]
        }
      ],
      "source": [
        "class Money:\n",
        "    def __init__(self, value):\n",
        "        self.value = value\n",
        "\n",
        "class Bill(Money):\n",
        "    pass\n",
        "\n",
        "class Coin(Money):\n",
        "    pass\n",
        "\n",
        "class OneDollar(Bill):\n",
        "    def __init__(self):\n",
        "        super().__init__(1)\n",
        "\n",
        "class FiveDollars(Bill):\n",
        "    def __init__(self):\n",
        "        super().__init__(5)\n",
        "\n",
        "class TenDollars(Bill):\n",
        "    def __init__(self):\n",
        "        super().__init__(10)\n",
        "\n",
        "class TwentyDollars(Bill):\n",
        "    def __init__(self):\n",
        "        super().__init__(20)\n",
        "\n",
        "class Penny(Coin):\n",
        "    def __init__(self):\n",
        "        super().__init__(0.01)\n",
        "\n",
        "class Nickel(Coin):\n",
        "    def __init__(self):\n",
        "        super().__init__(0.05)\n",
        "\n",
        "class Dime(Coin):\n",
        "    def __init__(self):\n",
        "        super().__init__(0.10)\n",
        "\n",
        "class Quarter(Coin):\n",
        "    def __init__(self):\n",
        "        super().__init__(0.25)\n",
        "\n",
        "def calculate_total(wallet):\n",
        "    return sum(item.value for item in wallet)\n",
        "\n",
        "def print_wallet(wallet):\n",
        "    for item in wallet:\n",
        "        print(f\"${item.value:.2f}\")\n",
        "\n",
        "wallet = [OneDollar(), FiveDollars(), TenDollars(), TwentyDollars(), Penny(), Nickel(), Dime(), Quarter()]\n",
        "assert calculate_total(wallet) == 36.41\n",
        "print_wallet(wallet)\n"
      ]
    },
    {
      "cell_type": "code",
      "source": [],
      "metadata": {
        "id": "LpBg2L6hbHMd"
      },
      "execution_count": null,
      "outputs": []
    }
  ]
}