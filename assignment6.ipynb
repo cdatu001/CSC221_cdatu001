{
  "nbformat": 4,
  "nbformat_minor": 0,
  "metadata": {
    "colab": {
      "provenance": [],
      "authorship_tag": "ABX9TyOOmQQQcKB71WP0TsSa/Cdh",
      "include_colab_link": true
    },
    "kernelspec": {
      "name": "python3",
      "display_name": "Python 3"
    },
    "language_info": {
      "name": "python"
    }
  },
  "cells": [
    {
      "cell_type": "markdown",
      "metadata": {
        "id": "view-in-github",
        "colab_type": "text"
      },
      "source": [
        "<a href=\"https://colab.research.google.com/github/cdatu001/CSC221_cdatu001/blob/main/assignment6.ipynb\" target=\"_parent\"><img src=\"https://colab.research.google.com/assets/colab-badge.svg\" alt=\"Open In Colab\"/></a>"
      ]
    },
    {
      "cell_type": "code",
      "execution_count": null,
      "metadata": {
        "colab": {
          "base_uri": "https://localhost:8080/"
        },
        "id": "FizDtkXygSMI",
        "outputId": "28da6709-85cf-4b5c-ea3a-6ef72ea77b47"
      },
      "outputs": [
        {
          "output_type": "stream",
          "name": "stdout",
          "text": [
            "Is the fruit 'grape'? I predict True.\n",
            "True\n",
            "\n",
            "Is the fruit 'orange'? I predict False.\n",
            "False\n",
            "\n",
            "Is the fruit either 'grape' or 'banana'? I predict True.\n",
            "True\n",
            "\n",
            "Is the length of the fruit name 5? I predict True.\n",
            "True\n",
            "\n",
            "Does the fruit start with the letter 'a'? I predict True.\n",
            "True\n",
            "You do not have Monday off\n",
            "You just earned 5 points!\n",
            "Person is an adult\n"
          ]
        }
      ],
      "source": [
        "\n",
        "# 5-1 Conditional Test\n",
        "fruit = 'grape'\n",
        "\n",
        "print(\"Is the fruit 'grape'? I predict True.\")\n",
        "print(fruit == 'grape')\n",
        "\n",
        "print(\"\\nIs the fruit 'orange'? I predict False.\")\n",
        "print(fruit == 'orange')\n",
        "\n",
        "print(\"\\nIs the fruit either 'grape' or 'banana'? I predict True.\")\n",
        "print(fruit == 'grape' or fruit == 'banana')\n",
        "\n",
        "print(\"\\nIs the length of the fruit name 5? I predict True.\")\n",
        "print(len(fruit) == 5)\n",
        "\n",
        "print(\"\\nDoes the fruit start with the letter 'a'? I predict True.\")\n",
        "print(fruit.startswith('g'))\n",
        "\n",
        "#5-2 More conditional Test\n",
        "#Equality\n",
        "car= 'audi'\n",
        "car == 'audi'\n",
        "\n",
        "#Inequality\n",
        "math = 'algebra'\n",
        "math == 'geometry'\n",
        "\n",
        "#lower method\n",
        "city = 'New York'\n",
        "city.lower() == 'new york'\n",
        "\n",
        "\n",
        "#test using the and keyword and or keyword\n",
        "bmw = 'red'\n",
        "audi = 'blue'\n",
        "bmw == 'yellow' and audi == 'blue'\n",
        "bmw == 'yellow' or audi == 'blue'\n",
        "\n",
        "#test whether item is in list\n",
        "car_year = [2005, 2009, 2010, 2019]\n",
        "2009 in car_year\n",
        "\n",
        "#test whether item is not is in list\n",
        "days_off = ['Wednesday', 'Saturday', 'Sunday']\n",
        "day = 'Monday'\n",
        "if day not in days_off:\n",
        "  print(f\"You do not have {day.title()} off\")\n",
        "\n",
        "# 5-3 Alien Color\n",
        "alien_color = 'blue'\n",
        "if alien_color == 'blue':\n",
        "  print('You just earned 5 points!')\n",
        "\n",
        "alien_color = 'yellow'\n",
        "if alien_color == 'green':\n",
        "  print('You just earned 5 points!')\n",
        "\n",
        "# 5-6 Stages of Life\n",
        "age = 20\n",
        "if age < 2:\n",
        "  print('Person is a baby')\n",
        "elif (age >= 2) and (age < 4):\n",
        "  print('Person is a toddler')\n",
        "elif (age >= 4) and (age < 13):\n",
        "  print('Person is a kid')\n",
        "elif (age >= 13) and (age < 20):\n",
        "  print('Person is a teenager')\n",
        "elif (age >= 20) and (age < 65):\n",
        "  print('Person is an adult')\n",
        "else:\n",
        "  print('Person is an elder')\n",
        "\n",
        "#ideas\n",
        "toppings_available=['pepperoni', 'cheese', 'peppers','olives', 'pineapple']\n",
        "sizes_available=['small, medium, large']\n",
        "cheeses_available=['mozzarella, cheddar, american']\n",
        "customer_size=input('Enter your requested size(small, medium, or large)')\n",
        "sizes=[]\n",
        "sizes.append(customer_size)\n",
        "customer_toppings=input('Enter your requested toppings(pepperoni, cheese, peppers, olives, pineapple) If no more toppings, say none!')\n",
        "toppings=[]\n",
        "toppings.append(customer_toppings)\n",
        "customer_cheeses=input('Enter your requested cheeses(mozzarella, cheddar, american)')\n",
        "cheeses=[]\n",
        "cheeses.append(customer_cheeses)\n",
        "for size in sizes:\n",
        "  print(f'\\nCustomer wants a {size} pizza.')\n",
        "for cheese in cheeses:\n",
        "  print(f'\\nAdd {cheese} on the pizza')\n",
        "for topping in toppings:\n",
        "  print(f'\\nAdd {topping} on the pizza.')\n"
      ]
    },
    {
      "cell_type": "code",
      "source": [],
      "metadata": {
        "id": "hh9yzuet6i2g"
      },
      "execution_count": null,
      "outputs": []
    }
  ]
}