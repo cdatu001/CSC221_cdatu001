{
  "nbformat": 4,
  "nbformat_minor": 0,
  "metadata": {
    "colab": {
      "provenance": [],
      "authorship_tag": "ABX9TyPc0paJzJmzaC/h70Q3GREe",
      "include_colab_link": true
    },
    "kernelspec": {
      "name": "python3",
      "display_name": "Python 3"
    },
    "language_info": {
      "name": "python"
    }
  },
  "cells": [
    {
      "cell_type": "markdown",
      "metadata": {
        "id": "view-in-github",
        "colab_type": "text"
      },
      "source": [
        "<a href=\"https://colab.research.google.com/github/cdatu001/CSC221_cdatu001/blob/main/asignment_7.ipynb\" target=\"_parent\"><img src=\"https://colab.research.google.com/assets/colab-badge.svg\" alt=\"Open In Colab\"/></a>"
      ]
    },
    {
      "cell_type": "code",
      "execution_count": 2,
      "metadata": {
        "colab": {
          "base_uri": "https://localhost:8080/"
        },
        "id": "aP0NNWghtvhC",
        "outputId": "52cd07b3-bf6f-433f-af6a-37ae553f9ba3"
      },
      "outputs": [
        {
          "output_type": "stream",
          "name": "stdout",
          "text": [
            "andrei\n",
            "datu\n",
            "21\n",
            "New York\n"
          ]
        }
      ],
      "source": [
        "#6-1\n",
        "person = {\n",
        "    'first_name': 'andrei',\n",
        "    'last_name': 'datu',\n",
        "    'age': 21,\n",
        "    'city': 'New York',\n",
        "    }\n",
        "\n",
        "print(person['first_name'])\n",
        "print(person['last_name'])\n",
        "print(person['age'])\n",
        "print(person['city'])\n"
      ]
    },
    {
      "cell_type": "code",
      "source": [
        "#6-2\n",
        "favorite_numbers = {\n",
        "    'charles': 23,\n",
        "    'trench': 17,\n",
        "    'xyra': 7,\n",
        "    'zed': 56,\n",
        "    'mabu': 1,\n",
        "}\n",
        "num = favorite_numbers['charles']\n",
        "print(f\"charles favorite number is {num}.\")\n",
        "\n",
        "num = favorite_numbers['trench']\n",
        "print(f\"trench favorite number is {num}.\")\n",
        "\n",
        "num = favorite_numbers['xyra']\n",
        "print(f\"xyra favorite number is {num}.\")\n",
        "\n",
        "num = favorite_numbers['zed']\n",
        "print(f\"zed favorite number is {num}.\")\n",
        "\n",
        "num = favorite_numbers['mabu']\n",
        "print(f\"mabu favorite number is {num}.\")"
      ],
      "metadata": {
        "colab": {
          "base_uri": "https://localhost:8080/"
        },
        "id": "LRKsxQpZtzje",
        "outputId": "c95e3000-f9f6-4340-9d55-249a735576c4"
      },
      "execution_count": 5,
      "outputs": [
        {
          "output_type": "stream",
          "name": "stdout",
          "text": [
            "charles favorite number is 23.\n",
            "trench favorite number is 17.\n",
            "xyra favorite number is 7.\n",
            "zed favorite number is 56.\n",
            "mabu favorite number is 1.\n"
          ]
        }
      ]
    },
    {
      "cell_type": "code",
      "source": [
        "#6-3\n",
        "glossary = {\n",
        "    'Statue': 'a three-dimensional representation usually of a person, animal, or mythical being that is produced by sculpturing, modeling, or casting.',\n",
        "    'President': 'the elected head of a republic.',\n",
        "    'Technology': 'the application of scientific knowledge to the practical aims of human life.',\n",
        "    'Calculus': 'the branch of mathematics that deals with the finding and properties of derivatives and integrals of functions.',\n",
        "    'Book': \"a written or printed work consisting of pages glued or sewn together along one side and bound in covers.\",\n",
        "    }\n",
        "\n",
        "word = 'Statue'\n",
        "print(f\"\\n{word.title()}: {glossary[word]}\")\n",
        "\n",
        "word = 'President'\n",
        "print(f\"\\n{word.title()}: {glossary[word]}\")\n",
        "\n",
        "word = 'Technology'\n",
        "print(f\"\\n{word.title()}: {glossary[word]}\")\n",
        "\n",
        "word = 'Calculus'\n",
        "print(f\"\\n{word.title()}: {glossary[word]}\")\n",
        "\n",
        "word = 'Book'\n",
        "print(f\"\\n{word.title()}: {glossary[word]}\")"
      ],
      "metadata": {
        "colab": {
          "base_uri": "https://localhost:8080/"
        },
        "id": "GLVy1ORTuMhJ",
        "outputId": "cf2e538b-eec1-4032-e82b-c4bbeb717c30"
      },
      "execution_count": 7,
      "outputs": [
        {
          "output_type": "stream",
          "name": "stdout",
          "text": [
            "\n",
            "Statue: a three-dimensional representation usually of a person, animal, or mythical being that is produced by sculpturing, modeling, or casting.\n",
            "\n",
            "President: the elected head of a republic.\n",
            "\n",
            "Technology: the application of scientific knowledge to the practical aims of human life.\n",
            "\n",
            "Calculus: the branch of mathematics that deals with the finding and properties of derivatives and integrals of functions.\n",
            "\n",
            "Book: a written or printed work consisting of pages glued or sewn together along one side and bound in covers.\n"
          ]
        }
      ]
    },
    {
      "cell_type": "code",
      "source": [
        "#6-4\n",
        "glossary = {\n",
        "    'Statue': 'a three-dimensional representation usually of a person, animal, or mythical being that is produced by sculpturing, modeling, or casting.',\n",
        "    'President': 'the elected head of a republic.',\n",
        "    'Technology': 'the application of scientific knowledge to the practical aims of human life.',\n",
        "    'Calculus': 'the branch of mathematics that deals with the finding and properties of derivatives and integrals of functions.',\n",
        "    'Book': \"a written or printed work consisting of pages glued or sewn together along one side and bound in covers.\",\n",
        "    }\n",
        "\n",
        "for word, definition in glossary.items():\n",
        "    print(f\"\\n{word.title()}: {definition}\")"
      ],
      "metadata": {
        "colab": {
          "base_uri": "https://localhost:8080/"
        },
        "id": "pOCkfgeyubsY",
        "outputId": "ff1abf71-5f83-412c-8ad1-eecb3e79aea0"
      },
      "execution_count": 8,
      "outputs": [
        {
          "output_type": "stream",
          "name": "stdout",
          "text": [
            "\n",
            "Statue: a three-dimensional representation usually of a person, animal, or mythical being that is produced by sculpturing, modeling, or casting.\n",
            "\n",
            "President: the elected head of a republic.\n",
            "\n",
            "Technology: the application of scientific knowledge to the practical aims of human life.\n",
            "\n",
            "Calculus: the branch of mathematics that deals with the finding and properties of derivatives and integrals of functions.\n",
            "\n",
            "Book: a written or printed work consisting of pages glued or sewn together along one side and bound in covers.\n"
          ]
        }
      ]
    },
    {
      "cell_type": "code",
      "source": [
        "#6-11\n",
        "cities = {\n",
        "    'New York City': {\n",
        "        'country': 'united states',\n",
        "        'population': 8_000_000,\n",
        "        },\n",
        "    'Los Angeles': {\n",
        "        'country': 'united states',\n",
        "        'population': 3_000_000,\n",
        "        },\n",
        "    'Manila': {\n",
        "        'country': 'philippines',\n",
        "        'population': 1_700_000,\n",
        "        }\n",
        "    }\n",
        "\n",
        "for city, city_info in cities.items():\n",
        "    country = city_info['country'].title()\n",
        "    population = city_info['population']\n",
        "\n",
        "\n",
        "    print(f\"\\n{city.title()} is in {country}.\")\n",
        "    print(f\"  It has a population of about {population}.\")\n",
        ""
      ],
      "metadata": {
        "colab": {
          "base_uri": "https://localhost:8080/"
        },
        "id": "AYEEWAS7vdTr",
        "outputId": "124edf10-24fe-477e-c53d-c17eab19630b"
      },
      "execution_count": 11,
      "outputs": [
        {
          "output_type": "stream",
          "name": "stdout",
          "text": [
            "\n",
            "New York City is in United States.\n",
            "  It has a population of about 8000000.\n",
            "\n",
            "Los Angeles is in United States.\n",
            "  It has a population of about 3000000.\n",
            "\n",
            "Manila is in Philippines.\n",
            "  It has a population of about 1700000.\n"
          ]
        }
      ]
    },
    {
      "cell_type": "code",
      "source": [],
      "metadata": {
        "id": "9lhs_2bTwLff"
      },
      "execution_count": null,
      "outputs": []
    }
  ]
}