{
  "nbformat": 4,
  "nbformat_minor": 0,
  "metadata": {
    "colab": {
      "provenance": [],
      "authorship_tag": "ABX9TyNq0z+tlxnnBOlpPZ6GWmig",
      "include_colab_link": true
    },
    "kernelspec": {
      "name": "python3",
      "display_name": "Python 3"
    },
    "language_info": {
      "name": "python"
    }
  },
  "cells": [
    {
      "cell_type": "markdown",
      "metadata": {
        "id": "view-in-github",
        "colab_type": "text"
      },
      "source": [
        "<a href=\"https://colab.research.google.com/github/cdatu001/CSC221_cdatu001/blob/main/assignment5.ipynb\" target=\"_parent\"><img src=\"https://colab.research.google.com/assets/colab-badge.svg\" alt=\"Open In Colab\"/></a>"
      ]
    },
    {
      "cell_type": "code",
      "execution_count": 2,
      "metadata": {
        "colab": {
          "base_uri": "https://localhost:8080/"
        },
        "id": "mAukkgqQfd4t",
        "outputId": "33409f6b-b949-423e-deb0-1a73c07a9d6d"
      },
      "outputs": [
        {
          "output_type": "stream",
          "name": "stdout",
          "text": [
            "120\n",
            "3628800\n",
            "2432902008176640000\n",
            "30414093201713378043612608166064768844377641568960512000000000000\n",
            "30\n",
            "907200\n",
            "46786577080320000\n",
            "26585745805693512275885146998308364374455980392448000000000000\n"
          ]
        }
      ],
      "source": [
        "def factorial(n):\n",
        "  integers=[]\n",
        "  products=1\n",
        "  if n==1:\n",
        "    return (n)\n",
        "  else:\n",
        "    for integer in range(1,n+1):\n",
        "      integers.append(integer)\n",
        "    for integer in integers:\n",
        "      products=products*integer\n",
        "    return products\n",
        "print(factorial(5))\n",
        "print(factorial(10))\n",
        "print(factorial(20))\n",
        "print(factorial(50))\n",
        "\n",
        "def special_factorial(n):\n",
        "  integers=[]\n",
        "  products=1\n",
        "  if n==1:\n",
        "    return (n)\n",
        "  else:\n",
        "    for integer in range(1,n+1):\n",
        "      integers.append(integer)\n",
        "      if integer==(4) or integer==(13) or integer==(22):\n",
        "        integers.remove(integer)\n",
        "    for integer in integers:\n",
        "        products=products*integer\n",
        "    return products\n",
        "print(special_factorial(5))\n",
        "print(special_factorial(10))\n",
        "print(special_factorial(20))\n",
        "print(special_factorial(50))"
      ]
    },
    {
      "cell_type": "code",
      "source": [],
      "metadata": {
        "id": "KUayrjDSgOEW"
      },
      "execution_count": null,
      "outputs": []
    }
  ]
}